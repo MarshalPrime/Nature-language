{
 "cells": [
  {
   "cell_type": "code",
   "execution_count": 31,
   "metadata": {},
   "outputs": [
    {
     "data": {
      "text/html": [
       "<div>\n",
       "<style scoped>\n",
       "    .dataframe tbody tr th:only-of-type {\n",
       "        vertical-align: middle;\n",
       "    }\n",
       "\n",
       "    .dataframe tbody tr th {\n",
       "        vertical-align: top;\n",
       "    }\n",
       "\n",
       "    .dataframe thead th {\n",
       "        text-align: right;\n",
       "    }\n",
       "</style>\n",
       "<table border=\"1\" class=\"dataframe\">\n",
       "  <thead>\n",
       "    <tr style=\"text-align: right;\">\n",
       "      <th></th>\n",
       "      <th>overall</th>\n",
       "      <th>reviewText</th>\n",
       "      <th>filtered_review</th>\n",
       "    </tr>\n",
       "  </thead>\n",
       "  <tbody>\n",
       "    <tr>\n",
       "      <th>0</th>\n",
       "      <td>5</td>\n",
       "      <td>What a spectacular tutu! Very slimming.</td>\n",
       "      <td>what spectacular tutu veri slim</td>\n",
       "    </tr>\n",
       "    <tr>\n",
       "      <th>1</th>\n",
       "      <td>1</td>\n",
       "      <td>What the heck? Is this a tutu for nuns? I know...</td>\n",
       "      <td>what heck is tutu nun i know cut still also se...</td>\n",
       "    </tr>\n",
       "    <tr>\n",
       "      <th>2</th>\n",
       "      <td>5</td>\n",
       "      <td>Exactly what we were looking for!</td>\n",
       "      <td>exactli look</td>\n",
       "    </tr>\n",
       "    <tr>\n",
       "      <th>3</th>\n",
       "      <td>5</td>\n",
       "      <td>I used this skirt for a Halloween costume and ...</td>\n",
       "      <td>i use skirt halloween costum glu bunch feather...</td>\n",
       "    </tr>\n",
       "    <tr>\n",
       "      <th>4</th>\n",
       "      <td>4</td>\n",
       "      <td>This is thick enough that you can't see throug...</td>\n",
       "      <td>thi thick enough see long sure check dimens i ...</td>\n",
       "    </tr>\n",
       "    <tr>\n",
       "      <th>...</th>\n",
       "      <td>...</td>\n",
       "      <td>...</td>\n",
       "      <td>...</td>\n",
       "    </tr>\n",
       "    <tr>\n",
       "      <th>332301</th>\n",
       "      <td>5</td>\n",
       "      <td>Works as expected!</td>\n",
       "      <td>work expect</td>\n",
       "    </tr>\n",
       "    <tr>\n",
       "      <th>332302</th>\n",
       "      <td>5</td>\n",
       "      <td>As described. easy to assemble with shock cord.</td>\n",
       "      <td>as describ easi assembl shock cord</td>\n",
       "    </tr>\n",
       "    <tr>\n",
       "      <th>332303</th>\n",
       "      <td>5</td>\n",
       "      <td>Really Nice set of Carbon bars that are very l...</td>\n",
       "      <td>realli nice set carbon bar light strong realli...</td>\n",
       "    </tr>\n",
       "    <tr>\n",
       "      <th>332304</th>\n",
       "      <td>5</td>\n",
       "      <td>Ive been using these for about two months so f...</td>\n",
       "      <td>ive use two month far i love the color bright ...</td>\n",
       "    </tr>\n",
       "    <tr>\n",
       "      <th>332305</th>\n",
       "      <td>5</td>\n",
       "      <td>Worked perfectly!  Very happy</td>\n",
       "      <td>work perfectli veri happi</td>\n",
       "    </tr>\n",
       "  </tbody>\n",
       "</table>\n",
       "<p>332306 rows × 3 columns</p>\n",
       "</div>"
      ],
      "text/plain": [
       "        overall                                         reviewText  \\\n",
       "0             5            What a spectacular tutu! Very slimming.   \n",
       "1             1  What the heck? Is this a tutu for nuns? I know...   \n",
       "2             5                  Exactly what we were looking for!   \n",
       "3             5  I used this skirt for a Halloween costume and ...   \n",
       "4             4  This is thick enough that you can't see throug...   \n",
       "...         ...                                                ...   \n",
       "332301        5                                 Works as expected!   \n",
       "332302        5    As described. easy to assemble with shock cord.   \n",
       "332303        5  Really Nice set of Carbon bars that are very l...   \n",
       "332304        5  Ive been using these for about two months so f...   \n",
       "332305        5                      Worked perfectly!  Very happy   \n",
       "\n",
       "                                          filtered_review  \n",
       "0                         what spectacular tutu veri slim  \n",
       "1       what heck is tutu nun i know cut still also se...  \n",
       "2                                            exactli look  \n",
       "3       i use skirt halloween costum glu bunch feather...  \n",
       "4       thi thick enough see long sure check dimens i ...  \n",
       "...                                                   ...  \n",
       "332301                                        work expect  \n",
       "332302                 as describ easi assembl shock cord  \n",
       "332303  realli nice set carbon bar light strong realli...  \n",
       "332304  ive use two month far i love the color bright ...  \n",
       "332305                          work perfectli veri happi  \n",
       "\n",
       "[332306 rows x 3 columns]"
      ]
     },
     "execution_count": 31,
     "metadata": {},
     "output_type": "execute_result"
    }
   ],
   "source": [
    "import pandas as pd\n",
    "\n",
    "file_path = '/home/marshal/protonotebook/VS Workspace/Sports_and_Outdoors_5_Filtered_review.csv'\n",
    "\n",
    "data = pd.read_csv(file_path)\n",
    "data"
   ]
  },
  {
   "cell_type": "markdown",
   "metadata": {},
   "source": [
    "#### Check Nan Values"
   ]
  },
  {
   "cell_type": "code",
   "execution_count": 32,
   "metadata": {},
   "outputs": [
    {
     "data": {
      "text/plain": [
       "overall              0\n",
       "reviewText           0\n",
       "filtered_review    163\n",
       "dtype: int64"
      ]
     },
     "execution_count": 32,
     "metadata": {},
     "output_type": "execute_result"
    }
   ],
   "source": [
    "nan_check = data.isna().sum()\n",
    "nan_check"
   ]
  },
  {
   "cell_type": "code",
   "execution_count": 33,
   "metadata": {},
   "outputs": [
    {
     "data": {
      "text/html": [
       "<div>\n",
       "<style scoped>\n",
       "    .dataframe tbody tr th:only-of-type {\n",
       "        vertical-align: middle;\n",
       "    }\n",
       "\n",
       "    .dataframe tbody tr th {\n",
       "        vertical-align: top;\n",
       "    }\n",
       "\n",
       "    .dataframe thead th {\n",
       "        text-align: right;\n",
       "    }\n",
       "</style>\n",
       "<table border=\"1\" class=\"dataframe\">\n",
       "  <thead>\n",
       "    <tr style=\"text-align: right;\">\n",
       "      <th></th>\n",
       "      <th>overall</th>\n",
       "      <th>reviewText</th>\n",
       "      <th>filtered_review</th>\n",
       "    </tr>\n",
       "  </thead>\n",
       "  <tbody>\n",
       "    <tr>\n",
       "      <th>0</th>\n",
       "      <td>5</td>\n",
       "      <td>What a spectacular tutu! Very slimming.</td>\n",
       "      <td>what spectacular tutu veri slim</td>\n",
       "    </tr>\n",
       "    <tr>\n",
       "      <th>1</th>\n",
       "      <td>1</td>\n",
       "      <td>What the heck? Is this a tutu for nuns? I know...</td>\n",
       "      <td>what heck is tutu nun i know cut still also se...</td>\n",
       "    </tr>\n",
       "    <tr>\n",
       "      <th>2</th>\n",
       "      <td>5</td>\n",
       "      <td>Exactly what we were looking for!</td>\n",
       "      <td>exactli look</td>\n",
       "    </tr>\n",
       "    <tr>\n",
       "      <th>3</th>\n",
       "      <td>5</td>\n",
       "      <td>I used this skirt for a Halloween costume and ...</td>\n",
       "      <td>i use skirt halloween costum glu bunch feather...</td>\n",
       "    </tr>\n",
       "    <tr>\n",
       "      <th>4</th>\n",
       "      <td>4</td>\n",
       "      <td>This is thick enough that you can't see throug...</td>\n",
       "      <td>thi thick enough see long sure check dimens i ...</td>\n",
       "    </tr>\n",
       "    <tr>\n",
       "      <th>...</th>\n",
       "      <td>...</td>\n",
       "      <td>...</td>\n",
       "      <td>...</td>\n",
       "    </tr>\n",
       "    <tr>\n",
       "      <th>332300</th>\n",
       "      <td>5</td>\n",
       "      <td>Good quality bag to represent your fraternity....</td>\n",
       "      <td>good qualiti bag repres fratern now back pride...</td>\n",
       "    </tr>\n",
       "    <tr>\n",
       "      <th>332302</th>\n",
       "      <td>5</td>\n",
       "      <td>As described. easy to assemble with shock cord.</td>\n",
       "      <td>as describ easi assembl shock cord</td>\n",
       "    </tr>\n",
       "    <tr>\n",
       "      <th>332303</th>\n",
       "      <td>5</td>\n",
       "      <td>Really Nice set of Carbon bars that are very l...</td>\n",
       "      <td>realli nice set carbon bar light strong realli...</td>\n",
       "    </tr>\n",
       "    <tr>\n",
       "      <th>332304</th>\n",
       "      <td>5</td>\n",
       "      <td>Ive been using these for about two months so f...</td>\n",
       "      <td>ive use two month far i love the color bright ...</td>\n",
       "    </tr>\n",
       "    <tr>\n",
       "      <th>332305</th>\n",
       "      <td>5</td>\n",
       "      <td>Worked perfectly!  Very happy</td>\n",
       "      <td>work perfectli veri happi</td>\n",
       "    </tr>\n",
       "  </tbody>\n",
       "</table>\n",
       "<p>295129 rows × 3 columns</p>\n",
       "</div>"
      ],
      "text/plain": [
       "        overall                                         reviewText  \\\n",
       "0             5            What a spectacular tutu! Very slimming.   \n",
       "1             1  What the heck? Is this a tutu for nuns? I know...   \n",
       "2             5                  Exactly what we were looking for!   \n",
       "3             5  I used this skirt for a Halloween costume and ...   \n",
       "4             4  This is thick enough that you can't see throug...   \n",
       "...         ...                                                ...   \n",
       "332300        5  Good quality bag to represent your fraternity....   \n",
       "332302        5    As described. easy to assemble with shock cord.   \n",
       "332303        5  Really Nice set of Carbon bars that are very l...   \n",
       "332304        5  Ive been using these for about two months so f...   \n",
       "332305        5                      Worked perfectly!  Very happy   \n",
       "\n",
       "                                          filtered_review  \n",
       "0                         what spectacular tutu veri slim  \n",
       "1       what heck is tutu nun i know cut still also se...  \n",
       "2                                            exactli look  \n",
       "3       i use skirt halloween costum glu bunch feather...  \n",
       "4       thi thick enough see long sure check dimens i ...  \n",
       "...                                                   ...  \n",
       "332300  good qualiti bag repres fratern now back pride...  \n",
       "332302                 as describ easi assembl shock cord  \n",
       "332303  realli nice set carbon bar light strong realli...  \n",
       "332304  ive use two month far i love the color bright ...  \n",
       "332305                          work perfectli veri happi  \n",
       "\n",
       "[295129 rows x 3 columns]"
      ]
     },
     "execution_count": 33,
     "metadata": {},
     "output_type": "execute_result"
    }
   ],
   "source": [
    "non_null = data.drop_duplicates(subset=['filtered_review'])\n",
    "non_null"
   ]
  },
  {
   "cell_type": "code",
   "execution_count": 34,
   "metadata": {},
   "outputs": [
    {
     "data": {
      "text/plain": [
       "overall            0\n",
       "reviewText         0\n",
       "filtered_review    1\n",
       "dtype: int64"
      ]
     },
     "execution_count": 34,
     "metadata": {},
     "output_type": "execute_result"
    }
   ],
   "source": [
    "nan_check = non_null.isna().sum()\n",
    "nan_check"
   ]
  },
  {
   "cell_type": "markdown",
   "metadata": {},
   "source": [
    "### Drop NaN Values"
   ]
  },
  {
   "cell_type": "code",
   "execution_count": 35,
   "metadata": {},
   "outputs": [],
   "source": [
    "data.dropna(subset=['filtered_review'], inplace=True)"
   ]
  },
  {
   "cell_type": "markdown",
   "metadata": {},
   "source": [
    "### Part 3: Sentiment Classification\n",
    "\n",
    "Using Tfidfvectorizer for TF_IDF vectorization"
   ]
  },
  {
   "cell_type": "code",
   "execution_count": 36,
   "metadata": {},
   "outputs": [
    {
     "name": "stderr",
     "output_type": "stream",
     "text": [
      "/home/marshal/anaconda3/lib/python3.11/site-packages/sklearn/utils/_param_validation.py:591: FutureWarning: Passing an int for a boolean parameter is deprecated in version 1.2 and won't be supported anymore in version 1.4.\n",
      "  warnings.warn(\n"
     ]
    },
    {
     "data": {
      "text/html": [
       "<div>\n",
       "<style scoped>\n",
       "    .dataframe tbody tr th:only-of-type {\n",
       "        vertical-align: middle;\n",
       "    }\n",
       "\n",
       "    .dataframe tbody tr th {\n",
       "        vertical-align: top;\n",
       "    }\n",
       "\n",
       "    .dataframe thead th {\n",
       "        text-align: right;\n",
       "    }\n",
       "</style>\n",
       "<table border=\"1\" class=\"dataframe\">\n",
       "  <thead>\n",
       "    <tr style=\"text-align: right;\">\n",
       "      <th></th>\n",
       "      <th>00am</th>\n",
       "      <th>0f</th>\n",
       "      <th>10</th>\n",
       "      <th>100</th>\n",
       "      <th>1000</th>\n",
       "      <th>1000d</th>\n",
       "      <th>1000fp</th>\n",
       "      <th>1000ml</th>\n",
       "      <th>100c</th>\n",
       "      <th>100c heart</th>\n",
       "      <th>...</th>\n",
       "      <th>zoop</th>\n",
       "      <th>zoot</th>\n",
       "      <th>zt</th>\n",
       "      <th>zt hundr</th>\n",
       "      <th>zulu</th>\n",
       "      <th>zumba</th>\n",
       "      <th>zumba class</th>\n",
       "      <th>zwift</th>\n",
       "      <th>zytel</th>\n",
       "      <th>zytel handl</th>\n",
       "    </tr>\n",
       "  </thead>\n",
       "  <tbody>\n",
       "    <tr>\n",
       "      <th>0</th>\n",
       "      <td>0.0</td>\n",
       "      <td>0.0</td>\n",
       "      <td>0.0</td>\n",
       "      <td>0.0</td>\n",
       "      <td>0.0</td>\n",
       "      <td>0.0</td>\n",
       "      <td>0.0</td>\n",
       "      <td>0.0</td>\n",
       "      <td>0.0</td>\n",
       "      <td>0.0</td>\n",
       "      <td>...</td>\n",
       "      <td>0.0</td>\n",
       "      <td>0.0</td>\n",
       "      <td>0.0</td>\n",
       "      <td>0.0</td>\n",
       "      <td>0.0</td>\n",
       "      <td>0.0</td>\n",
       "      <td>0.0</td>\n",
       "      <td>0.0</td>\n",
       "      <td>0.0</td>\n",
       "      <td>0.0</td>\n",
       "    </tr>\n",
       "    <tr>\n",
       "      <th>1</th>\n",
       "      <td>0.0</td>\n",
       "      <td>0.0</td>\n",
       "      <td>0.0</td>\n",
       "      <td>0.0</td>\n",
       "      <td>0.0</td>\n",
       "      <td>0.0</td>\n",
       "      <td>0.0</td>\n",
       "      <td>0.0</td>\n",
       "      <td>0.0</td>\n",
       "      <td>0.0</td>\n",
       "      <td>...</td>\n",
       "      <td>0.0</td>\n",
       "      <td>0.0</td>\n",
       "      <td>0.0</td>\n",
       "      <td>0.0</td>\n",
       "      <td>0.0</td>\n",
       "      <td>0.0</td>\n",
       "      <td>0.0</td>\n",
       "      <td>0.0</td>\n",
       "      <td>0.0</td>\n",
       "      <td>0.0</td>\n",
       "    </tr>\n",
       "    <tr>\n",
       "      <th>2</th>\n",
       "      <td>0.0</td>\n",
       "      <td>0.0</td>\n",
       "      <td>0.0</td>\n",
       "      <td>0.0</td>\n",
       "      <td>0.0</td>\n",
       "      <td>0.0</td>\n",
       "      <td>0.0</td>\n",
       "      <td>0.0</td>\n",
       "      <td>0.0</td>\n",
       "      <td>0.0</td>\n",
       "      <td>...</td>\n",
       "      <td>0.0</td>\n",
       "      <td>0.0</td>\n",
       "      <td>0.0</td>\n",
       "      <td>0.0</td>\n",
       "      <td>0.0</td>\n",
       "      <td>0.0</td>\n",
       "      <td>0.0</td>\n",
       "      <td>0.0</td>\n",
       "      <td>0.0</td>\n",
       "      <td>0.0</td>\n",
       "    </tr>\n",
       "    <tr>\n",
       "      <th>3</th>\n",
       "      <td>0.0</td>\n",
       "      <td>0.0</td>\n",
       "      <td>0.0</td>\n",
       "      <td>0.0</td>\n",
       "      <td>0.0</td>\n",
       "      <td>0.0</td>\n",
       "      <td>0.0</td>\n",
       "      <td>0.0</td>\n",
       "      <td>0.0</td>\n",
       "      <td>0.0</td>\n",
       "      <td>...</td>\n",
       "      <td>0.0</td>\n",
       "      <td>0.0</td>\n",
       "      <td>0.0</td>\n",
       "      <td>0.0</td>\n",
       "      <td>0.0</td>\n",
       "      <td>0.0</td>\n",
       "      <td>0.0</td>\n",
       "      <td>0.0</td>\n",
       "      <td>0.0</td>\n",
       "      <td>0.0</td>\n",
       "    </tr>\n",
       "    <tr>\n",
       "      <th>4</th>\n",
       "      <td>0.0</td>\n",
       "      <td>0.0</td>\n",
       "      <td>0.0</td>\n",
       "      <td>0.0</td>\n",
       "      <td>0.0</td>\n",
       "      <td>0.0</td>\n",
       "      <td>0.0</td>\n",
       "      <td>0.0</td>\n",
       "      <td>0.0</td>\n",
       "      <td>0.0</td>\n",
       "      <td>...</td>\n",
       "      <td>0.0</td>\n",
       "      <td>0.0</td>\n",
       "      <td>0.0</td>\n",
       "      <td>0.0</td>\n",
       "      <td>0.0</td>\n",
       "      <td>0.0</td>\n",
       "      <td>0.0</td>\n",
       "      <td>0.0</td>\n",
       "      <td>0.0</td>\n",
       "      <td>0.0</td>\n",
       "    </tr>\n",
       "  </tbody>\n",
       "</table>\n",
       "<p>5 rows × 206911 columns</p>\n",
       "</div>"
      ],
      "text/plain": [
       "   00am   0f   10  100  1000  1000d  1000fp  1000ml  100c  100c heart  ...  \\\n",
       "0   0.0  0.0  0.0  0.0   0.0    0.0     0.0     0.0   0.0         0.0  ...   \n",
       "1   0.0  0.0  0.0  0.0   0.0    0.0     0.0     0.0   0.0         0.0  ...   \n",
       "2   0.0  0.0  0.0  0.0   0.0    0.0     0.0     0.0   0.0         0.0  ...   \n",
       "3   0.0  0.0  0.0  0.0   0.0    0.0     0.0     0.0   0.0         0.0  ...   \n",
       "4   0.0  0.0  0.0  0.0   0.0    0.0     0.0     0.0   0.0         0.0  ...   \n",
       "\n",
       "   zoop  zoot   zt  zt hundr  zulu  zumba  zumba class  zwift  zytel  \\\n",
       "0   0.0   0.0  0.0       0.0   0.0    0.0          0.0    0.0    0.0   \n",
       "1   0.0   0.0  0.0       0.0   0.0    0.0          0.0    0.0    0.0   \n",
       "2   0.0   0.0  0.0       0.0   0.0    0.0          0.0    0.0    0.0   \n",
       "3   0.0   0.0  0.0       0.0   0.0    0.0          0.0    0.0    0.0   \n",
       "4   0.0   0.0  0.0       0.0   0.0    0.0          0.0    0.0    0.0   \n",
       "\n",
       "   zytel handl  \n",
       "0          0.0  \n",
       "1          0.0  \n",
       "2          0.0  \n",
       "3          0.0  \n",
       "4          0.0  \n",
       "\n",
       "[5 rows x 206911 columns]"
      ]
     },
     "execution_count": 36,
     "metadata": {},
     "output_type": "execute_result"
    }
   ],
   "source": [
    "from sklearn.feature_extraction.text import TfidfVectorizer\n",
    "import pandas as pd\n",
    "\n",
    "# Initialize TfidfVectorizer\n",
    "tfidf_vectorizer = TfidfVectorizer(\n",
    "    analyzer='word',              # Word level vectorizer\n",
    "    lowercase=True,               # Lower case the text\n",
    "    min_df=5,                     # Use tokens that appear at least 5 times\n",
    "    ngram_range=(1, 2),           # Create 1 n-grams\n",
    "    stop_words='english',         # Remove English stopwords \n",
    "    sublinear_tf=1, smooth_idf=1, use_idf=1  # Additional Features\n",
    ")\n",
    "\n",
    "# Fit TfidfVectorizer on the 'filtered_review' column\n",
    "tfidf_vectorizer.fit(data['filtered_review'])\n",
    "\n",
    "# Transform 'filtered_review' column into TF-IDF features (sparse matrix)\n",
    "tfidf_features = tfidf_vectorizer.transform(data['filtered_review'])\n",
    "\n",
    "# Convert sparse matrix to DataFrame\n",
    "features = pd.DataFrame.sparse.from_spmatrix(\n",
    "    tfidf_features,\n",
    "    columns=tfidf_vectorizer.get_feature_names_out()\n",
    ")\n",
    "\n",
    "features.head()\n"
   ]
  },
  {
   "cell_type": "code",
   "execution_count": 37,
   "metadata": {},
   "outputs": [
    {
     "data": {
      "text/plain": [
       "(overall\n",
       " 5    158393\n",
       " 4     39545\n",
       " 3     16781\n",
       " 1      9549\n",
       " 2      8232\n",
       " Name: count, dtype: int64,\n",
       " overall\n",
       " 5    67883\n",
       " 4    16948\n",
       " 3     7192\n",
       " 1     4092\n",
       " 2     3528\n",
       " Name: count, dtype: int64)"
      ]
     },
     "execution_count": 37,
     "metadata": {},
     "output_type": "execute_result"
    }
   ],
   "source": [
    "import numpy as np\n",
    "from sklearn.model_selection import train_test_split\n",
    "\n",
    "x_train, x_test, y_train, y_test = train_test_split( features, data.overall, test_size=.30, stratify=data.overall, random_state=42)\n",
    "y_train.value_counts(), y_test.value_counts()\n",
    "     "
   ]
  },
  {
   "cell_type": "markdown",
   "metadata": {},
   "source": [
    "### Naive Bayes Model"
   ]
  },
  {
   "cell_type": "code",
   "execution_count": 38,
   "metadata": {},
   "outputs": [
    {
     "data": {
      "text/html": [
       "<style>#sk-container-id-1 {color: black;}#sk-container-id-1 pre{padding: 0;}#sk-container-id-1 div.sk-toggleable {background-color: white;}#sk-container-id-1 label.sk-toggleable__label {cursor: pointer;display: block;width: 100%;margin-bottom: 0;padding: 0.3em;box-sizing: border-box;text-align: center;}#sk-container-id-1 label.sk-toggleable__label-arrow:before {content: \"▸\";float: left;margin-right: 0.25em;color: #696969;}#sk-container-id-1 label.sk-toggleable__label-arrow:hover:before {color: black;}#sk-container-id-1 div.sk-estimator:hover label.sk-toggleable__label-arrow:before {color: black;}#sk-container-id-1 div.sk-toggleable__content {max-height: 0;max-width: 0;overflow: hidden;text-align: left;background-color: #f0f8ff;}#sk-container-id-1 div.sk-toggleable__content pre {margin: 0.2em;color: black;border-radius: 0.25em;background-color: #f0f8ff;}#sk-container-id-1 input.sk-toggleable__control:checked~div.sk-toggleable__content {max-height: 200px;max-width: 100%;overflow: auto;}#sk-container-id-1 input.sk-toggleable__control:checked~label.sk-toggleable__label-arrow:before {content: \"▾\";}#sk-container-id-1 div.sk-estimator input.sk-toggleable__control:checked~label.sk-toggleable__label {background-color: #d4ebff;}#sk-container-id-1 div.sk-label input.sk-toggleable__control:checked~label.sk-toggleable__label {background-color: #d4ebff;}#sk-container-id-1 input.sk-hidden--visually {border: 0;clip: rect(1px 1px 1px 1px);clip: rect(1px, 1px, 1px, 1px);height: 1px;margin: -1px;overflow: hidden;padding: 0;position: absolute;width: 1px;}#sk-container-id-1 div.sk-estimator {font-family: monospace;background-color: #f0f8ff;border: 1px dotted black;border-radius: 0.25em;box-sizing: border-box;margin-bottom: 0.5em;}#sk-container-id-1 div.sk-estimator:hover {background-color: #d4ebff;}#sk-container-id-1 div.sk-parallel-item::after {content: \"\";width: 100%;border-bottom: 1px solid gray;flex-grow: 1;}#sk-container-id-1 div.sk-label:hover label.sk-toggleable__label {background-color: #d4ebff;}#sk-container-id-1 div.sk-serial::before {content: \"\";position: absolute;border-left: 1px solid gray;box-sizing: border-box;top: 0;bottom: 0;left: 50%;z-index: 0;}#sk-container-id-1 div.sk-serial {display: flex;flex-direction: column;align-items: center;background-color: white;padding-right: 0.2em;padding-left: 0.2em;position: relative;}#sk-container-id-1 div.sk-item {position: relative;z-index: 1;}#sk-container-id-1 div.sk-parallel {display: flex;align-items: stretch;justify-content: center;background-color: white;position: relative;}#sk-container-id-1 div.sk-item::before, #sk-container-id-1 div.sk-parallel-item::before {content: \"\";position: absolute;border-left: 1px solid gray;box-sizing: border-box;top: 0;bottom: 0;left: 50%;z-index: -1;}#sk-container-id-1 div.sk-parallel-item {display: flex;flex-direction: column;z-index: 1;position: relative;background-color: white;}#sk-container-id-1 div.sk-parallel-item:first-child::after {align-self: flex-end;width: 50%;}#sk-container-id-1 div.sk-parallel-item:last-child::after {align-self: flex-start;width: 50%;}#sk-container-id-1 div.sk-parallel-item:only-child::after {width: 0;}#sk-container-id-1 div.sk-dashed-wrapped {border: 1px dashed gray;margin: 0 0.4em 0.5em 0.4em;box-sizing: border-box;padding-bottom: 0.4em;background-color: white;}#sk-container-id-1 div.sk-label label {font-family: monospace;font-weight: bold;display: inline-block;line-height: 1.2em;}#sk-container-id-1 div.sk-label-container {text-align: center;}#sk-container-id-1 div.sk-container {/* jupyter's `normalize.less` sets `[hidden] { display: none; }` but bootstrap.min.css set `[hidden] { display: none !important; }` so we also need the `!important` here to be able to override the default hidden behavior on the sphinx rendered scikit-learn.org. See: https://github.com/scikit-learn/scikit-learn/issues/21755 */display: inline-block !important;position: relative;}#sk-container-id-1 div.sk-text-repr-fallback {display: none;}</style><div id=\"sk-container-id-1\" class=\"sk-top-container\"><div class=\"sk-text-repr-fallback\"><pre>MultinomialNB(alpha=0.3)</pre><b>In a Jupyter environment, please rerun this cell to show the HTML representation or trust the notebook. <br />On GitHub, the HTML representation is unable to render, please try loading this page with nbviewer.org.</b></div><div class=\"sk-container\" hidden><div class=\"sk-item\"><div class=\"sk-estimator sk-toggleable\"><input class=\"sk-toggleable__control sk-hidden--visually\" id=\"sk-estimator-id-1\" type=\"checkbox\" checked><label for=\"sk-estimator-id-1\" class=\"sk-toggleable__label sk-toggleable__label-arrow\">MultinomialNB</label><div class=\"sk-toggleable__content\"><pre>MultinomialNB(alpha=0.3)</pre></div></div></div></div></div>"
      ],
      "text/plain": [
       "MultinomialNB(alpha=0.3)"
      ]
     },
     "execution_count": 38,
     "metadata": {},
     "output_type": "execute_result"
    }
   ],
   "source": [
    "from sklearn.naive_bayes import MultinomialNB\n",
    "    \n",
    "naive_bayes_model = MultinomialNB(alpha=.3, fit_prior=True)\n",
    "\n",
    "naive_bayes_model.fit(x_train, y_train)"
   ]
  },
  {
   "cell_type": "code",
   "execution_count": 39,
   "metadata": {},
   "outputs": [
    {
     "name": "stdout",
     "output_type": "stream",
     "text": [
      "Training Accuracy: 0.76\n",
      "Test Accuracy: 0.7\n"
     ]
    }
   ],
   "source": [
    "from sklearn.metrics import accuracy_score\n",
    "\n",
    "print(\"Training Accuracy:\", round( accuracy_score(naive_bayes_model.predict(x_train), y_train ), 2) )\n",
    "print(\"Test Accuracy:\", round( accuracy_score(naive_bayes_model.predict(x_test), y_test ), 2))"
   ]
  },
  {
   "cell_type": "code",
   "execution_count": 41,
   "metadata": {},
   "outputs": [],
   "source": [
    "import re\n",
    "from nltk.corpus import stopwords\n",
    "from nltk.tokenize import word_tokenize\n",
    "from nltk.stem import PorterStemmer\n",
    "import inflect\n",
    "\n",
    "p = inflect.engine()  # Initialize inflect engine inside the function\n",
    "porter_stemmer = PorterStemmer()  # Initialize Porter Stemmer\n",
    "\n",
    "def cleaningText(text):\n",
    "    \n",
    "    text = re.sub(\"[^a-zA-Z0-9]\", \" \", text) # Remove Punctuation\n",
    "    text = ' '.join(p.number_to_words(word) if word.isdigit() else word for word in text.split()) #convert Numbers to Words\n",
    "    text = [ porter_stemmer.stem(word.lower()) for word in word_tokenize(text) if word not in stopwords.words('english') ]\n",
    "    return \" \".join(text)\n",
    "     "
   ]
  },
  {
   "cell_type": "code",
   "execution_count": 56,
   "metadata": {},
   "outputs": [
    {
     "name": "stderr",
     "output_type": "stream",
     "text": [
      "/home/marshal/anaconda3/lib/python3.11/site-packages/sklearn/base.py:464: UserWarning: X does not have valid feature names, but MultinomialNB was fitted with feature names\n",
      "  warnings.warn(\n",
      "/home/marshal/anaconda3/lib/python3.11/site-packages/sklearn/base.py:464: UserWarning: X does not have valid feature names, but MultinomialNB was fitted with feature names\n",
      "  warnings.warn(\n"
     ]
    },
    {
     "data": {
      "text/plain": [
       "(array([5]), array([1]))"
      ]
     },
     "execution_count": 56,
     "metadata": {},
     "output_type": "execute_result"
    }
   ],
   "source": [
    "### Test Prediction New Reviews\n",
    "pos_text = tfidf_vectorizer.transform( [cleaningText(\"Good quality bag \")] ).toarray()\n",
    "neg_text = tfidf_vectorizer.transform( [cleaningText(\"very bad quality \")] ).toarray()\n",
    "\n",
    "naive_bayes_model.predict(pos_text), naive_bayes_model.predict(neg_text)\n"
   ]
  }
 ],
 "metadata": {
  "kernelspec": {
   "display_name": "base",
   "language": "python",
   "name": "python3"
  },
  "language_info": {
   "codemirror_mode": {
    "name": "ipython",
    "version": 3
   },
   "file_extension": ".py",
   "mimetype": "text/x-python",
   "name": "python",
   "nbconvert_exporter": "python",
   "pygments_lexer": "ipython3",
   "version": "3.11.5"
  }
 },
 "nbformat": 4,
 "nbformat_minor": 2
}
