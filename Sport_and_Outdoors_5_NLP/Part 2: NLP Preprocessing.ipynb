{
 "cells": [
  {
   "cell_type": "markdown",
   "metadata": {},
   "source": [
    "## Part 2 : Preprocessing \n",
    "\n",
    "We use the previously filtered downloaded Amazon Sports_and_Outdoors_5 dataset to analyze."
   ]
  },
  {
   "cell_type": "code",
   "execution_count": 1,
   "metadata": {},
   "outputs": [
    {
     "data": {
      "text/html": [
       "<div>\n",
       "<style scoped>\n",
       "    .dataframe tbody tr th:only-of-type {\n",
       "        vertical-align: middle;\n",
       "    }\n",
       "\n",
       "    .dataframe tbody tr th {\n",
       "        vertical-align: top;\n",
       "    }\n",
       "\n",
       "    .dataframe thead th {\n",
       "        text-align: right;\n",
       "    }\n",
       "</style>\n",
       "<table border=\"1\" class=\"dataframe\">\n",
       "  <thead>\n",
       "    <tr style=\"text-align: right;\">\n",
       "      <th></th>\n",
       "      <th>overall</th>\n",
       "      <th>reviewerID</th>\n",
       "      <th>reviewText</th>\n",
       "      <th>summary</th>\n",
       "    </tr>\n",
       "  </thead>\n",
       "  <tbody>\n",
       "    <tr>\n",
       "      <th>0</th>\n",
       "      <td>5</td>\n",
       "      <td>A180LQZBUWVOLF</td>\n",
       "      <td>What a spectacular tutu! Very slimming.</td>\n",
       "      <td>Five Stars</td>\n",
       "    </tr>\n",
       "    <tr>\n",
       "      <th>1</th>\n",
       "      <td>1</td>\n",
       "      <td>ATMFGKU5SVEYY</td>\n",
       "      <td>What the heck? Is this a tutu for nuns? I know...</td>\n",
       "      <td>Is this a tutu for nuns?!</td>\n",
       "    </tr>\n",
       "    <tr>\n",
       "      <th>2</th>\n",
       "      <td>5</td>\n",
       "      <td>A1QE70QBJ8U6ZG</td>\n",
       "      <td>Exactly what we were looking for!</td>\n",
       "      <td>Five Stars</td>\n",
       "    </tr>\n",
       "    <tr>\n",
       "      <th>3</th>\n",
       "      <td>5</td>\n",
       "      <td>A22CP6Z73MZTYU</td>\n",
       "      <td>I used this skirt for a Halloween costume and ...</td>\n",
       "      <td>I liked that the elastic waist didn't dig in (...</td>\n",
       "    </tr>\n",
       "    <tr>\n",
       "      <th>4</th>\n",
       "      <td>4</td>\n",
       "      <td>A22L28G8NRNLLN</td>\n",
       "      <td>This is thick enough that you can't see throug...</td>\n",
       "      <td>This is thick enough that you can't see throug...</td>\n",
       "    </tr>\n",
       "  </tbody>\n",
       "</table>\n",
       "</div>"
      ],
      "text/plain": [
       "   overall      reviewerID                                         reviewText  \\\n",
       "0        5  A180LQZBUWVOLF            What a spectacular tutu! Very slimming.   \n",
       "1        1   ATMFGKU5SVEYY  What the heck? Is this a tutu for nuns? I know...   \n",
       "2        5  A1QE70QBJ8U6ZG                  Exactly what we were looking for!   \n",
       "3        5  A22CP6Z73MZTYU  I used this skirt for a Halloween costume and ...   \n",
       "4        4  A22L28G8NRNLLN  This is thick enough that you can't see throug...   \n",
       "\n",
       "                                             summary  \n",
       "0                                         Five Stars  \n",
       "1                          Is this a tutu for nuns?!  \n",
       "2                                         Five Stars  \n",
       "3  I liked that the elastic waist didn't dig in (...  \n",
       "4  This is thick enough that you can't see throug...  "
      ]
     },
     "execution_count": 1,
     "metadata": {},
     "output_type": "execute_result"
    }
   ],
   "source": [
    "import pandas as pd\n",
    "\n",
    "# File path\n",
    "file_path = '/home/marshal/protonotebook/VS Workspace/Sports_and_Outdoors_5_filtered.csv'\n",
    "\n",
    "# Read CSV file into DataFrame\n",
    "data = pd.read_csv(file_path)\n",
    "data.head()"
   ]
  },
  {
   "cell_type": "code",
   "execution_count": 2,
   "metadata": {},
   "outputs": [
    {
     "name": "stdout",
     "output_type": "stream",
     "text": [
      "overall\n",
      "5    0.681357\n",
      "4    0.170021\n",
      "3    0.072186\n",
      "1    0.041056\n",
      "2    0.035380\n",
      "Name: proportion, dtype: float64\n"
     ]
    }
   ],
   "source": [
    "print(data.overall.value_counts(normalize=True))"
   ]
  },
  {
   "cell_type": "code",
   "execution_count": 3,
   "metadata": {},
   "outputs": [
    {
     "name": "stdout",
     "output_type": "stream",
     "text": [
      "<class 'pandas.core.frame.DataFrame'>\n",
      "RangeIndex: 332447 entries, 0 to 332446\n",
      "Data columns (total 4 columns):\n",
      " #   Column      Non-Null Count   Dtype \n",
      "---  ------      --------------   ----- \n",
      " 0   overall     332447 non-null  int64 \n",
      " 1   reviewerID  332447 non-null  object\n",
      " 2   reviewText  332306 non-null  object\n",
      " 3   summary     332385 non-null  object\n",
      "dtypes: int64(1), object(3)\n",
      "memory usage: 10.1+ MB\n"
     ]
    }
   ],
   "source": [
    "data.info()"
   ]
  },
  {
   "cell_type": "markdown",
   "metadata": {},
   "source": [
    "### Check NaN Values"
   ]
  },
  {
   "cell_type": "code",
   "execution_count": 11,
   "metadata": {},
   "outputs": [
    {
     "name": "stdout",
     "output_type": "stream",
     "text": [
      "overall         0\n",
      "reviewerID      0\n",
      "reviewText    141\n",
      "summary        62\n",
      "dtype: int64\n"
     ]
    }
   ],
   "source": [
    "nan_check = data.isna().sum()\n",
    "print(nan_check)"
   ]
  },
  {
   "cell_type": "code",
   "execution_count": 12,
   "metadata": {},
   "outputs": [],
   "source": [
    "# Drop NaN Values\n",
    "data.dropna(subset=['reviewText'], inplace=True)"
   ]
  },
  {
   "cell_type": "markdown",
   "metadata": {},
   "source": [
    "### Applying Preprocessing features\n",
    "\n",
    "1. Tokenizer\n",
    "2. Stemming\n",
    "3. remove Stop Words"
   ]
  },
  {
   "cell_type": "code",
   "execution_count": 13,
   "metadata": {},
   "outputs": [],
   "source": [
    "import re\n",
    "from nltk.corpus import stopwords\n",
    "from nltk.tokenize import word_tokenize\n",
    "from nltk.stem import PorterStemmer\n",
    "import inflect\n",
    "\n",
    "p = inflect.engine()  # Initialize inflect engine inside the function\n",
    "porter_stemmer = PorterStemmer()  # Initialize Porter Stemmer\n",
    "\n",
    "def cleaningText(text):\n",
    "    \n",
    "    text = re.sub(\"[^a-zA-Z0-9]\", \" \", text) # Remove Punctuation\n",
    "    text = ' '.join(p.number_to_words(word) if word.isdigit() else word for word in text.split()) #convert Numbers to Words\n",
    "    text = [ porter_stemmer.stem(word.lower()) for word in word_tokenize(text) if word not in stopwords.words('english') ]\n",
    "    return \" \".join(text)\n",
    "     "
   ]
  },
  {
   "cell_type": "markdown",
   "metadata": {},
   "source": [
    "### Test the function"
   ]
  },
  {
   "cell_type": "code",
   "execution_count": 14,
   "metadata": {},
   "outputs": [
    {
     "name": "stdout",
     "output_type": "stream",
     "text": [
      "i three cat two dog\n"
     ]
    }
   ],
   "source": [
    "# Test the function\n",
    "text = \"I have 3 cats and 2 dogs.\"\n",
    "cleaned_text = cleaningText(text)\n",
    "print(cleaned_text)"
   ]
  },
  {
   "cell_type": "code",
   "execution_count": 15,
   "metadata": {},
   "outputs": [
    {
     "data": {
      "text/html": [
       "<div>\n",
       "<style scoped>\n",
       "    .dataframe tbody tr th:only-of-type {\n",
       "        vertical-align: middle;\n",
       "    }\n",
       "\n",
       "    .dataframe tbody tr th {\n",
       "        vertical-align: top;\n",
       "    }\n",
       "\n",
       "    .dataframe thead th {\n",
       "        text-align: right;\n",
       "    }\n",
       "</style>\n",
       "<table border=\"1\" class=\"dataframe\">\n",
       "  <thead>\n",
       "    <tr style=\"text-align: right;\">\n",
       "      <th></th>\n",
       "      <th>overall</th>\n",
       "      <th>reviewText</th>\n",
       "    </tr>\n",
       "  </thead>\n",
       "  <tbody>\n",
       "    <tr>\n",
       "      <th>0</th>\n",
       "      <td>5</td>\n",
       "      <td>What a spectacular tutu! Very slimming.</td>\n",
       "    </tr>\n",
       "    <tr>\n",
       "      <th>1</th>\n",
       "      <td>1</td>\n",
       "      <td>What the heck? Is this a tutu for nuns? I know...</td>\n",
       "    </tr>\n",
       "    <tr>\n",
       "      <th>2</th>\n",
       "      <td>5</td>\n",
       "      <td>Exactly what we were looking for!</td>\n",
       "    </tr>\n",
       "    <tr>\n",
       "      <th>3</th>\n",
       "      <td>5</td>\n",
       "      <td>I used this skirt for a Halloween costume and ...</td>\n",
       "    </tr>\n",
       "    <tr>\n",
       "      <th>4</th>\n",
       "      <td>4</td>\n",
       "      <td>This is thick enough that you can't see throug...</td>\n",
       "    </tr>\n",
       "    <tr>\n",
       "      <th>...</th>\n",
       "      <td>...</td>\n",
       "      <td>...</td>\n",
       "    </tr>\n",
       "    <tr>\n",
       "      <th>332442</th>\n",
       "      <td>5</td>\n",
       "      <td>Works as expected!</td>\n",
       "    </tr>\n",
       "    <tr>\n",
       "      <th>332443</th>\n",
       "      <td>5</td>\n",
       "      <td>As described. easy to assemble with shock cord.</td>\n",
       "    </tr>\n",
       "    <tr>\n",
       "      <th>332444</th>\n",
       "      <td>5</td>\n",
       "      <td>Really Nice set of Carbon bars that are very l...</td>\n",
       "    </tr>\n",
       "    <tr>\n",
       "      <th>332445</th>\n",
       "      <td>5</td>\n",
       "      <td>Ive been using these for about two months so f...</td>\n",
       "    </tr>\n",
       "    <tr>\n",
       "      <th>332446</th>\n",
       "      <td>5</td>\n",
       "      <td>Worked perfectly!  Very happy</td>\n",
       "    </tr>\n",
       "  </tbody>\n",
       "</table>\n",
       "<p>332306 rows × 2 columns</p>\n",
       "</div>"
      ],
      "text/plain": [
       "        overall                                         reviewText\n",
       "0             5            What a spectacular tutu! Very slimming.\n",
       "1             1  What the heck? Is this a tutu for nuns? I know...\n",
       "2             5                  Exactly what we were looking for!\n",
       "3             5  I used this skirt for a Halloween costume and ...\n",
       "4             4  This is thick enough that you can't see throug...\n",
       "...         ...                                                ...\n",
       "332442        5                                 Works as expected!\n",
       "332443        5    As described. easy to assemble with shock cord.\n",
       "332444        5  Really Nice set of Carbon bars that are very l...\n",
       "332445        5  Ive been using these for about two months so f...\n",
       "332446        5                      Worked perfectly!  Very happy\n",
       "\n",
       "[332306 rows x 2 columns]"
      ]
     },
     "execution_count": 15,
     "metadata": {},
     "output_type": "execute_result"
    }
   ],
   "source": [
    "filtered_data = data[['overall','reviewText']]\n",
    "filtered_data"
   ]
  },
  {
   "cell_type": "code",
   "execution_count": 16,
   "metadata": {},
   "outputs": [
    {
     "name": "stdout",
     "output_type": "stream",
     "text": [
      "overall       0\n",
      "reviewText    0\n",
      "dtype: int64\n"
     ]
    }
   ],
   "source": [
    "nan_check = filtered_data.isna().sum()\n",
    "print(nan_check)"
   ]
  },
  {
   "cell_type": "code",
   "execution_count": 20,
   "metadata": {},
   "outputs": [
    {
     "name": "stderr",
     "output_type": "stream",
     "text": [
      "/tmp/ipykernel_5949/64670240.py:1: SettingWithCopyWarning: \n",
      "A value is trying to be set on a copy of a slice from a DataFrame.\n",
      "Try using .loc[row_indexer,col_indexer] = value instead\n",
      "\n",
      "See the caveats in the documentation: https://pandas.pydata.org/pandas-docs/stable/user_guide/indexing.html#returning-a-view-versus-a-copy\n",
      "  filtered_data['filtered_review'] = filtered_data['reviewText'].apply(lambda x: cleaningText(str(x)))\n"
     ]
    },
    {
     "data": {
      "text/html": [
       "<div>\n",
       "<style scoped>\n",
       "    .dataframe tbody tr th:only-of-type {\n",
       "        vertical-align: middle;\n",
       "    }\n",
       "\n",
       "    .dataframe tbody tr th {\n",
       "        vertical-align: top;\n",
       "    }\n",
       "\n",
       "    .dataframe thead th {\n",
       "        text-align: right;\n",
       "    }\n",
       "</style>\n",
       "<table border=\"1\" class=\"dataframe\">\n",
       "  <thead>\n",
       "    <tr style=\"text-align: right;\">\n",
       "      <th></th>\n",
       "      <th>overall</th>\n",
       "      <th>reviewText</th>\n",
       "      <th>filtered_review</th>\n",
       "    </tr>\n",
       "  </thead>\n",
       "  <tbody>\n",
       "    <tr>\n",
       "      <th>0</th>\n",
       "      <td>5</td>\n",
       "      <td>What a spectacular tutu! Very slimming.</td>\n",
       "      <td>what spectacular tutu veri slim</td>\n",
       "    </tr>\n",
       "    <tr>\n",
       "      <th>1</th>\n",
       "      <td>1</td>\n",
       "      <td>What the heck? Is this a tutu for nuns? I know...</td>\n",
       "      <td>what heck is tutu nun i know cut still also se...</td>\n",
       "    </tr>\n",
       "    <tr>\n",
       "      <th>2</th>\n",
       "      <td>5</td>\n",
       "      <td>Exactly what we were looking for!</td>\n",
       "      <td>exactli look</td>\n",
       "    </tr>\n",
       "    <tr>\n",
       "      <th>3</th>\n",
       "      <td>5</td>\n",
       "      <td>I used this skirt for a Halloween costume and ...</td>\n",
       "      <td>i use skirt halloween costum glu bunch feather...</td>\n",
       "    </tr>\n",
       "    <tr>\n",
       "      <th>4</th>\n",
       "      <td>4</td>\n",
       "      <td>This is thick enough that you can't see throug...</td>\n",
       "      <td>thi thick enough see long sure check dimens i ...</td>\n",
       "    </tr>\n",
       "    <tr>\n",
       "      <th>...</th>\n",
       "      <td>...</td>\n",
       "      <td>...</td>\n",
       "      <td>...</td>\n",
       "    </tr>\n",
       "    <tr>\n",
       "      <th>332442</th>\n",
       "      <td>5</td>\n",
       "      <td>Works as expected!</td>\n",
       "      <td>work expect</td>\n",
       "    </tr>\n",
       "    <tr>\n",
       "      <th>332443</th>\n",
       "      <td>5</td>\n",
       "      <td>As described. easy to assemble with shock cord.</td>\n",
       "      <td>as describ easi assembl shock cord</td>\n",
       "    </tr>\n",
       "    <tr>\n",
       "      <th>332444</th>\n",
       "      <td>5</td>\n",
       "      <td>Really Nice set of Carbon bars that are very l...</td>\n",
       "      <td>realli nice set carbon bar light strong realli...</td>\n",
       "    </tr>\n",
       "    <tr>\n",
       "      <th>332445</th>\n",
       "      <td>5</td>\n",
       "      <td>Ive been using these for about two months so f...</td>\n",
       "      <td>ive use two month far i love the color bright ...</td>\n",
       "    </tr>\n",
       "    <tr>\n",
       "      <th>332446</th>\n",
       "      <td>5</td>\n",
       "      <td>Worked perfectly!  Very happy</td>\n",
       "      <td>work perfectli veri happi</td>\n",
       "    </tr>\n",
       "  </tbody>\n",
       "</table>\n",
       "<p>332306 rows × 3 columns</p>\n",
       "</div>"
      ],
      "text/plain": [
       "        overall                                         reviewText  \\\n",
       "0             5            What a spectacular tutu! Very slimming.   \n",
       "1             1  What the heck? Is this a tutu for nuns? I know...   \n",
       "2             5                  Exactly what we were looking for!   \n",
       "3             5  I used this skirt for a Halloween costume and ...   \n",
       "4             4  This is thick enough that you can't see throug...   \n",
       "...         ...                                                ...   \n",
       "332442        5                                 Works as expected!   \n",
       "332443        5    As described. easy to assemble with shock cord.   \n",
       "332444        5  Really Nice set of Carbon bars that are very l...   \n",
       "332445        5  Ive been using these for about two months so f...   \n",
       "332446        5                      Worked perfectly!  Very happy   \n",
       "\n",
       "                                          filtered_review  \n",
       "0                         what spectacular tutu veri slim  \n",
       "1       what heck is tutu nun i know cut still also se...  \n",
       "2                                            exactli look  \n",
       "3       i use skirt halloween costum glu bunch feather...  \n",
       "4       thi thick enough see long sure check dimens i ...  \n",
       "...                                                   ...  \n",
       "332442                                        work expect  \n",
       "332443                 as describ easi assembl shock cord  \n",
       "332444  realli nice set carbon bar light strong realli...  \n",
       "332445  ive use two month far i love the color bright ...  \n",
       "332446                          work perfectli veri happi  \n",
       "\n",
       "[332306 rows x 3 columns]"
      ]
     },
     "execution_count": 20,
     "metadata": {},
     "output_type": "execute_result"
    }
   ],
   "source": [
    "filtered_data['filtered_review'] = filtered_data['reviewText'].apply(lambda x: cleaningText(str(x)))\n",
    "filtered_data"
   ]
  },
  {
   "cell_type": "markdown",
   "metadata": {},
   "source": [
    "use .loc[] to ensure that you're modifying the original DataFrame"
   ]
  },
  {
   "cell_type": "code",
   "execution_count": 21,
   "metadata": {},
   "outputs": [],
   "source": [
    "filtered_data.to_csv('Sports_and_Outdoors_5_Filtered_review.csv', index=False)"
   ]
  },
  {
   "cell_type": "code",
   "execution_count": null,
   "metadata": {},
   "outputs": [],
   "source": []
  }
 ],
 "metadata": {
  "kernelspec": {
   "display_name": "base",
   "language": "python",
   "name": "python3"
  },
  "language_info": {
   "codemirror_mode": {
    "name": "ipython",
    "version": 3
   },
   "file_extension": ".py",
   "mimetype": "text/x-python",
   "name": "python",
   "nbconvert_exporter": "python",
   "pygments_lexer": "ipython3",
   "version": "3.11.5"
  }
 },
 "nbformat": 4,
 "nbformat_minor": 2
}
